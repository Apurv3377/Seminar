{
 "cells": [
  {
   "cell_type": "code",
   "execution_count": 17,
   "metadata": {},
   "outputs": [],
   "source": [
    "import sys\n",
    "import os\n",
    "import time\n",
    "import random\n",
    "import pymongo\n",
    "import json\n",
    "from datetime import timezone, datetime\n",
    "import string\n",
    "import uuid\n",
    "from uuid import UUID\n",
    "import pandas as pd\n",
    "import seaborn as sns"
   ]
  },
  {
   "cell_type": "code",
   "execution_count": 18,
   "metadata": {},
   "outputs": [],
   "source": [
    "def random_generator(size=6, chars=string.ascii_uppercase):\n",
    "    return ''.join(random.choice(chars) for x in range(size))\n",
    "def random_hexgenerator():\n",
    "    hexN=\"0x\"+uuid.uuid4().hex\n",
    "    return hexN[:18]\n",
    "def timestamp_gen():\n",
    "    ts=int(datetime.now(tz=timezone.utc).timestamp() * 1000)\n",
    "    return ts"
   ]
  },
  {
   "cell_type": "code",
   "execution_count": 19,
   "metadata": {},
   "outputs": [],
   "source": [
    "# obtain a mongo connection\n",
    "from pymongo import MongoClient\n",
    "client = MongoClient('localhost', 27017)\n",
    "\n",
    "# obtain a handle to the random database\n",
    "db=client.mongoengine_test\n",
    "collection=db.post"
   ]
  },
  {
   "cell_type": "code",
   "execution_count": 20,
   "metadata": {},
   "outputs": [],
   "source": [
    "documents_number = collection.count() * 200000\n",
    "batch_number = 5 * 1000;\n",
    "job_id = '1'\n",
    "j=0\n",
    "itr=0\n",
    "MAX_ITR=10\n",
    "total_docs=0\n",
    "job_name = 'Job#' + job_id\n",
    "write_readings={}"
   ]
  },
  {
   "cell_type": "code",
   "execution_count": 21,
   "metadata": {},
   "outputs": [
    {
     "name": "stderr",
     "output_type": "stream",
     "text": [
      "/usr/local/lib/python3.5/dist-packages/ipykernel_launcher.py:34: DeprecationWarning: insert is deprecated. Use insert_one or insert_many instead.\n"
     ]
    },
    {
     "name": "stdout",
     "output_type": "stream",
     "text": [
      "Job#1  inserted  143965  in  10.305141 s\n"
     ]
    }
   ],
   "source": [
    "batch_documents = [i for i in range(batch_number)];\n",
    "\n",
    "startf = datetime.now();\n",
    "while itr<MAX_ITR: \n",
    "    start = datetime.now();\n",
    "    for index in range(documents_number):\n",
    "        try:\n",
    "            ts = timestamp_gen()\n",
    "            value = random.random()\n",
    "            syscall_nr=random.randint(1,101)\n",
    "            syscall_name=random_generator(6,\"abcdefghijklmnopqrstuvwxyz\")\n",
    "            dtb=random_hexgenerator()\n",
    "            rsp=random_hexgenerator()\n",
    "            rip=random_hexgenerator()\n",
    "            pid=random.randint(1,10000)\n",
    "            vmid=\"vm\"+random_generator(2,'1234')\n",
    "            logtype=random_generator(3,'xyz')\n",
    "            document = {\n",
    "                'value' : value,\n",
    "                'syscall_nr':syscall_nr,\n",
    "                'syscall_name':syscall_name,\n",
    "                'dtb':dtb,\n",
    "                'rsp':rsp,\n",
    "                'rip':rip,\n",
    "                'pid':pid,\n",
    "                'vmid':vmid,\n",
    "                'logtype':logtype,\n",
    "                'ts':ts \n",
    "                }\n",
    "            #creating array/batch of documents to insert \n",
    "            batch_documents[index % batch_number] = document\n",
    "            \n",
    "            if (index + 1) % batch_number == 0:\n",
    "                collection.insert(batch_documents)\n",
    "                index += 1;\n",
    "            \n",
    "            #calculate the time for the insert\n",
    "            timec=int((datetime.now() - start).total_seconds())\n",
    "            \n",
    "            #if index % 4000 == 0: \n",
    "               # print (' inserted ', index, ' documents.')\n",
    "\n",
    "            if timec==1:\n",
    "                #print (timec, 'secs for',index)\n",
    "                j=j+1\n",
    "                write_readings[j]=index\n",
    "                itr=itr+1\n",
    "                total_docs=total_docs + index\n",
    "                break\n",
    "                   \n",
    "        except:\n",
    "            print ('Unexpected error:', sys.exc_info()[0], ', for index ', index)\n",
    "            raise\n",
    "print (job_name, ' inserted ',total_docs, ' in ', (datetime.now() - startf).total_seconds(), 's')"
   ]
  },
  {
   "cell_type": "code",
   "execution_count": 22,
   "metadata": {},
   "outputs": [
    {
     "data": {
      "text/plain": [
       "array([<matplotlib.axes._subplots.AxesSubplot object at 0x7fea2c26aef0>], dtype=object)"
      ]
     },
     "execution_count": 22,
     "metadata": {},
     "output_type": "execute_result"
    },
    {
     "data": {
      "image/png": "[encoded data removed]",
      "text/plain": [
       "<matplotlib.figure.Figure at 0x7fea2d7fc6d8>"
      ]
     },
     "metadata": {
      "needs_background": "light"
     },
     "output_type": "display_data"
    }
   ],
   "source": [
    "producer_df = pd.DataFrame.from_dict(write_readings, orient='index').rename(columns={0: 'write_per_second'})\n",
    "producer_df.sort_index(inplace=True)\n",
    "producer_df\n",
    "producer_df.plot(kind='bar', subplots=True, figsize=(10, 10), title=\"Write Performance\")"
   ]
  },
  {
   "cell_type": "code",
   "execution_count": null,
   "metadata": {},
   "outputs": [],
   "source": []
  }
 ],
 "metadata": {
  "kernelspec": {
   "display_name": "Python 3",
   "language": "python",
   "name": "python3"
  },
  "language_info": {
   "codemirror_mode": {
    "name": "ipython",
    "version": 3
   },
   "file_extension": ".py",
   "mimetype": "text/x-python",
   "name": "python",
   "nbconvert_exporter": "python",
   "pygments_lexer": "ipython3",
   "version": "3.5.3"
  }
 },
 "nbformat": 4,
 "nbformat_minor": 2
}
